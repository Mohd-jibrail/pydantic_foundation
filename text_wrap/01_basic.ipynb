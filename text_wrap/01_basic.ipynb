{
 "cells": [
  {
   "cell_type": "code",
   "execution_count": 3,
   "id": "8bd5eac8",
   "metadata": {},
   "outputs": [
    {
     "name": "stdout",
     "output_type": "stream",
     "text": [
      "Python provides many useful libraries for text\n",
      "formatting and manipulation.\n"
     ]
    }
   ],
   "source": [
    "import textwrap3 as textwrap # type: ignore[import]\n",
    "\n",
    "text = \"Python provides many useful libraries for text formatting and manipulation.\"\n",
    "\n",
    "# Wrapping text at a width of 30 characters\n",
    "wrapped_text = textwrap.fill(text, width=50)\n",
    "\n",
    "print(wrapped_text)"
   ]
  },
  {
   "cell_type": "code",
   "execution_count": 4,
   "id": "e572979c",
   "metadata": {},
   "outputs": [
    {
     "name": "stdout",
     "output_type": "stream",
     "text": [
      ">>> Python provides many useful libraries for text formatting and manipulation.\n"
     ]
    }
   ],
   "source": [
    "text = \"Python provides many useful libraries for text formatting and manipulation.\"\n",
    "indented_text = textwrap.indent(text, prefix=\">>> \")\n",
    "print(indented_text)"
   ]
  },
  {
   "cell_type": "code",
   "execution_count": 7,
   "id": "f4ee48ab",
   "metadata": {},
   "outputs": [
    {
     "name": "stdout",
     "output_type": "stream",
     "text": [
      "00 Python provides many useful libraries for text formatting and manipulation.\n"
     ]
    }
   ],
   "source": [
    "dedented_text = textwrap.dedent(\"             00 \"+text)\n",
    "print(dedented_text)"
   ]
  },
  {
   "cell_type": "code",
   "execution_count": 11,
   "id": "24c71dce",
   "metadata": {},
   "outputs": [
    {
     "name": "stdout",
     "output_type": "stream",
     "text": [
      "Python is a\n",
      "programming language\n",
      "that lets you work\n",
      "quickly and\n",
      "integrate systems\n",
      "more effectively.\n"
     ]
    }
   ],
   "source": [
    "paragraph = \"Python is a programming language that lets you work quickly and integrate systems more effectively.\"\n",
    "wrapped_paragraph = textwrap.fill(paragraph, width=20)\n",
    "print(wrapped_paragraph)"
   ]
  },
  {
   "cell_type": "code",
   "execution_count": 12,
   "id": "6ee34cf4",
   "metadata": {},
   "outputs": [
    {
     "name": "stdout",
     "output_type": "stream",
     "text": [
      "Python is great. It\n",
      "helps with\n",
      "automation.\n",
      "And\n",
      "makes coding fun!\n"
     ]
    }
   ],
   "source": [
    "paragraph = \"Python is great. It helps with automation.\\nAnd makes coding fun!\"\n",
    "wrapped_paragraph = textwrap.fill(paragraph, width=20, replace_whitespace=False)\n",
    "\n",
    "print(wrapped_paragraph)\n"
   ]
  },
  {
   "cell_type": "code",
   "execution_count": 13,
   "id": "79ed605c",
   "metadata": {},
   "outputs": [
    {
     "name": "stdout",
     "output_type": "stream",
     "text": [
      "Text formatting helps improve\n",
      "readability, especially in structured\n",
      "outputs.\n",
      "Text formatting\n",
      "helps improve\n",
      "readability,\n",
      "especially in\n",
      "structured outputs.\n"
     ]
    }
   ],
   "source": [
    "text = \"Text formatting helps improve readability, especially in structured outputs.\"\n",
    "\n",
    "# Wrap at different widths\n",
    "print(textwrap.fill(text, width=40))\n",
    "print(textwrap.fill(text, width=20))\n"
   ]
  },
  {
   "cell_type": "code",
   "execution_count": 14,
   "id": "340aeef2",
   "metadata": {},
   "outputs": [
    {
     "name": "stdout",
     "output_type": "stream",
     "text": [
      "*Python provides many useful libraries\n",
      "  for text manipulation.\n"
     ]
    }
   ],
   "source": [
    "text = \"Python provides many useful libraries for text manipulation.\"\n",
    "formatted_text = textwrap.fill(text, width=40, initial_indent=\"*\", subsequent_indent=\"  \")\n",
    "\n",
    "print(formatted_text)\n"
   ]
  },
  {
   "cell_type": "code",
   "execution_count": 15,
   "id": "a4e8e325",
   "metadata": {},
   "outputs": [
    {
     "name": "stdout",
     "output_type": "stream",
     "text": [
      "This example starts with excess\n",
      "--> spaces, but we can format it\n",
      "--> cleanly.\n"
     ]
    }
   ],
   "source": [
    "raw_text = \"    This example starts with excess spaces, but we can format it cleanly.\"\n",
    "formatted_text = textwrap.fill(textwrap.dedent(raw_text), width=35, subsequent_indent=\"--> \")\n",
    "\n",
    "print(formatted_text)\n"
   ]
  }
 ],
 "metadata": {
  "kernelspec": {
   "display_name": "venv",
   "language": "python",
   "name": "python3"
  },
  "language_info": {
   "codemirror_mode": {
    "name": "ipython",
    "version": 3
   },
   "file_extension": ".py",
   "mimetype": "text/x-python",
   "name": "python",
   "nbconvert_exporter": "python",
   "pygments_lexer": "ipython3",
   "version": "3.13.3"
  }
 },
 "nbformat": 4,
 "nbformat_minor": 5
}
